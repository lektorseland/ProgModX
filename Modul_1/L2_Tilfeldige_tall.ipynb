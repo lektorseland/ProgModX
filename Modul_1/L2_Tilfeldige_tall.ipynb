{
 "cells": [
  {
   "cell_type": "markdown",
   "id": "17b078ff",
   "metadata": {},
   "source": [
    "# Teori tilfeldige tall\n",
    "\n",
    "I denne økten skal vi se på hvordan vi kan jobbe med tilfeldige tall. I første omgang skal vi se på enkle bruksområder. Etterhvert skal vi derimot bruke tilfeldige tall til å simulere mer sammensatte problemstillinger.\n",
    "\n",
    "Vi skal også introdusere lister i python, men holde det til hva vi har bruk for utelukkende i denne økten. "
   ]
  },
  {
   "cell_type": "markdown",
   "id": "ba417038",
   "metadata": {},
   "source": [
    "## Kort om lister\n",
    "\n",
    "En liste er en samling verdier. Det kan være tall, funksjoner, tekststrenger eller en blanding av alt. En enkel liste med tallene fra 1-4 ser slik ut\n",
    "`liste = [1,2,3,4]`\n",
    "For å få harde parenteser, trykker du `option`+`8`, så `9`.\n",
    "\n",
    "En liste med tekststrenger kan defineres slik:\n",
    "`dyr = [\"Pinnsvin\",\"Kakapo\",\"Aleksander\"]`\n",
    "\n",
    "Når listen består av tall, kan vi finne summen av tallene i listen med `sum(liste)`, og lengden av listen med `len(liste)`."
   ]
  },
  {
   "cell_type": "markdown",
   "id": "36e2d37c",
   "metadata": {},
   "source": [
    "### Underveisoppgave 1\n",
    "* Definer en liste med 5 tall\n",
    "* Få python til å regne ut lengden av listen. Skriv ut svaret som `Listen har lengde ...` hvor prikkene skal byttes ut med det python fant.\n",
    "* Få python til å regne ut summen av tallene i listen. Skriv ut svaret som `Summen av tallene i lista er ...` hvor prikkene skal byttes ut med det python regnet ut. "
   ]
  },
  {
   "cell_type": "code",
   "execution_count": null,
   "id": "a16f0e89",
   "metadata": {},
   "outputs": [],
   "source": []
  },
  {
   "cell_type": "markdown",
   "id": "b957fd1c",
   "metadata": {},
   "source": [
    "### Underveisoppgave 2\n",
    "Lag et program som regner ut gjennomsnittet av tallene i en liste. Formelen for gjennomsnitt er:\n",
    "\n",
    "$$ \\bar{x} = \\frac{x_{1}+x_{2}+\\cdots+x_{n}}{n}$$\n",
    "\n",
    "hvor $x_{1}, x_{2},\\ldots$ er tallene i lista, og $n$ er antall tall i lista. Skriv svaret med to desimaler."
   ]
  },
  {
   "cell_type": "code",
   "execution_count": 4,
   "id": "7db16d37",
   "metadata": {},
   "outputs": [
    {
     "name": "stdout",
     "output_type": "stream",
     "text": [
      "Gjennomsnittet er 3.33\n"
     ]
    }
   ],
   "source": [
    "liste = [1,2,3,4,5,5]\n",
    "n = len(liste)\n",
    "xsum = sum(liste)\n",
    "gjsn = xsum/n\n",
    "print(f\"Gjennomsnittet er {gjsn:.2f}\")"
   ]
  },
  {
   "cell_type": "markdown",
   "id": "76c22c85",
   "metadata": {},
   "source": [
    "## Tilfeldige tall\n",
    "Når vi skal jobbe med tilfeldige tall, må vi importere et bibliotek med funksjoner som heter `random`. Det gjøres med kommandoen \n",
    "`from random import *`.\n",
    "\n",
    "De funksjonene du skal bruke i denne økten er:\n",
    "\n",
    "* `randint(a, b)` som gir et tilfeldig heltall mellom $a$ og $b$, inkludert $a$ og $b$. \n",
    "* `choice(liste)` som trekker et tilfeldig element fra en liste.\n",
    "* `choices(liste, k = n)` som trekker $n$ elementer fra en liste tilfeldig. Samme element kan trekkes flere ganger.\n",
    "* `sample(liste, n)` som trekker $n$ unike elementer fra listen. Samme element kan ikke trekkes flere ganger.\n",
    "\n",
    "I tillegg er det også bra å kjenne til funksjonen `uniform(a, b)`. Den trekker et tilfeldig flyttall (desimaltall) mellom $a$ og $b$. "
   ]
  },
  {
   "cell_type": "markdown",
   "id": "dde744f5",
   "metadata": {},
   "source": [
    "### Underveisoppgave 3\n",
    "Lag et program som ruller en terning og skriver ut hva resultatet ble."
   ]
  },
  {
   "cell_type": "code",
   "execution_count": null,
   "id": "b6a61dbd",
   "metadata": {},
   "outputs": [],
   "source": []
  },
  {
   "cell_type": "markdown",
   "id": "844edd36",
   "metadata": {},
   "source": [
    "### Underveisoppgave 4\n",
    "Lag et program som trekker ut ett av fire dyr i en liste."
   ]
  },
  {
   "cell_type": "code",
   "execution_count": null,
   "id": "34e0c63b",
   "metadata": {},
   "outputs": [],
   "source": []
  },
  {
   "cell_type": "markdown",
   "id": "182de5af",
   "metadata": {},
   "source": [
    "### Underveisoppgave 5\n",
    "Lag et program hvor du definerer en terning som en liste, og kaster terningen 10 ganger."
   ]
  },
  {
   "cell_type": "code",
   "execution_count": null,
   "id": "91b2f344",
   "metadata": {},
   "outputs": [],
   "source": []
  },
  {
   "cell_type": "markdown",
   "id": "fe67d396",
   "metadata": {},
   "source": [
    "### Underveisoppgave 6\n",
    "Lag et program som trekker 7 tall fra 1-34. Samme tall kan ikke dukke opp flere ganger."
   ]
  },
  {
   "cell_type": "code",
   "execution_count": null,
   "id": "ad0275cc",
   "metadata": {},
   "outputs": [],
   "source": []
  },
  {
   "cell_type": "markdown",
   "id": "ed90eb6f",
   "metadata": {},
   "source": [
    "# Oppgaver tilfeldige tall"
   ]
  },
  {
   "cell_type": "markdown",
   "id": "7713914d",
   "metadata": {},
   "source": [
    "## Oppgave 1\n",
    "\n",
    "Lag et program som triller 5 terninger og skriver ut resultatet. Undersøk hvor mange ganger du må kjøre programmet for å få yatzee."
   ]
  },
  {
   "cell_type": "code",
   "execution_count": null,
   "id": "8ffaa13c",
   "metadata": {},
   "outputs": [],
   "source": []
  },
  {
   "cell_type": "markdown",
   "id": "deeebd09",
   "metadata": {},
   "source": [
    "## Oppgave 2\n",
    "\n",
    "Betine er lei av å være rektor alene og skal plukke en assistent. Valget faller naturlig nok på en lærer som underviser matematikk eller realfag. Betine er like glad i alle lærerne, og kan derfor ikke bestemme seg for hvem som skal bli hennes assistent. Valget står mellom Andreas, Unni, Aleksander, Tomine og Kjetil.\n",
    "\n",
    "Lag et program som kan hjelpe Betine med å finne en assistent ved å trekke en person tilfeldig. "
   ]
  },
  {
   "cell_type": "code",
   "execution_count": null,
   "id": "b4222a0d",
   "metadata": {},
   "outputs": [],
   "source": []
  },
  {
   "cell_type": "markdown",
   "id": "7c51dec2",
   "metadata": {},
   "source": [
    "## Oppgave 3\n",
    "\n",
    "Fra matematikken er har du lært at sannsynligheten for å få en sekser på en terning er $P(6) = 1/6$. \n",
    "* Lag en liste med tallene 1 - 6 og lag et program som velger 10 verdier fra listen.\n",
    "\n",
    "* Regn ut sannsynligheten for å få en sekser basert på de 10 verdiene.\n",
    "\n",
    "* Undersøk hvordan sannsynligheten endrer seg når du øker antall verdier (kast) som trekkes. Hva ser du?"
   ]
  },
  {
   "cell_type": "code",
   "execution_count": null,
   "id": "41ea7579",
   "metadata": {},
   "outputs": [],
   "source": []
  },
  {
   "cell_type": "markdown",
   "id": "64b9e933",
   "metadata": {},
   "source": [
    "## Oppgave 4\n",
    "\n",
    "Vi lager en enkel pokersimulator med 1 spiller! Nedenfor ser du en liste med alle kortene i en kortstokk. Lag et program som velger 7 kort tilfeldig. Det er viktig at samme kortet ikke kan velges to ganger. De to første kortene i utvalget er de du har på hånda, de resterende 5 kortene er de som ligger på bordet. Hvor lett er det å få to kort av samme type (treere, knekter, osv)."
   ]
  },
  {
   "cell_type": "code",
   "execution_count": 1,
   "id": "2a2a570f",
   "metadata": {},
   "outputs": [],
   "source": [
    "# S = spar, R = ruter, K = kløver, H = hjerter\n",
    "kortstokk = ['S1','S2','S3','S4','S5','S6','S7','S8','S9','S10','SJ','SD','SK',\n",
    "            'R1','R2','R3','R4','R5','R6','R7','R8','R9','R10','RJ','RD','RK',\n",
    "            'K1','K2','K3','K4','K5','K6','K7','K8','K9','K10','KJ','KD','KK',\n",
    "            'H1','H2','H3','H4','H5','H6','H7','H8','H9','H10','HJ','HD','HK']\n",
    "\n",
    "# Skriv inn din kode under her\n"
   ]
  },
  {
   "cell_type": "markdown",
   "id": "535b32f2",
   "metadata": {},
   "source": [
    "## Oppgave 5\n",
    "\n",
    "Du har en historieprøve om ikke så alt for lenge. Du leser boka, men merker at du heller vil løse programmeringsoppgaver. Du får se en glimrende ide! Du kan lage et program som stiller deg tilfeldige spørsmål!\n",
    "\n",
    "Velg et tema fra historieboken, og lag et program som stiller deg et tilfeldig spørsmål. Sørg for å ha svar på spørsmålene skrevet et sted slik at du kan sjekke svaret om du har svart riktig. God pugging!"
   ]
  },
  {
   "cell_type": "code",
   "execution_count": null,
   "id": "19ee7548",
   "metadata": {},
   "outputs": [],
   "source": []
  }
 ],
 "metadata": {
  "kernelspec": {
   "display_name": "Python 3 (ipykernel)",
   "language": "python",
   "name": "python3"
  },
  "language_info": {
   "codemirror_mode": {
    "name": "ipython",
    "version": 3
   },
   "file_extension": ".py",
   "mimetype": "text/x-python",
   "name": "python",
   "nbconvert_exporter": "python",
   "pygments_lexer": "ipython3",
   "version": "3.8.8"
  }
 },
 "nbformat": 4,
 "nbformat_minor": 5
}
