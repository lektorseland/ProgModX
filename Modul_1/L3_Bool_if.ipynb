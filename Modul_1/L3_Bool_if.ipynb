{
 "cells": [
  {
   "cell_type": "code",
   "execution_count": 16,
   "id": "019505c0",
   "metadata": {},
   "outputs": [],
   "source": [
    "from math import *\n",
    "from random import *"
   ]
  },
  {
   "cell_type": "markdown",
   "id": "4f39c6c0",
   "metadata": {},
   "source": [
    "# Boolske verdier og if-tester\n",
    "\n",
    "I denne leksjonen ser vi på hvordan vi kan kjøre kode i Python utifra bestemte kriterier. Da kan vi lage koder som er mer anvendbare på forskjellige situasjoner og input. Vi starter med å se på hva boolske verdier er."
   ]
  },
  {
   "cell_type": "markdown",
   "id": "fa26348d",
   "metadata": {},
   "source": [
    "## Boolske verdier og tester\n",
    "\n",
    "En boolsk verdi er enten `True` eller `False`. De brukes når vi undersøker variabler opp mot hverandre. Du kan gjerne tenke på det som at vi tester en påstand, og får svar om det stemmer eller ikke. Testene vi kan utføre i Python er: \n",
    "\n",
    "* `a == b` - er $a$ og $b$ like?\n",
    "* `a != b` - er $a$ og $b$ ikke like?\n",
    "* `a < b` - er $a$ mindre enn $b$?\n",
    "* `a > b` - er $a$ større enn $b$?\n",
    "* `a <= b` - er $a$ mindre eller lik $b$?\n",
    "* `a >= b` - er $a$ større eller lik $b$?\n",
    "* `a in b` - er $a$ et element i $b$?\n",
    "* `a not in b` - er $a$ ikke et element i $b$?\n",
    "\n",
    "I mange tilfeller ønsker vi å teste flere ting samtidig. Da kan vi kombinere tester med `and` og `or`.\n",
    "* `a == b and a != c` - er $a$ og $b$ like og samtidig $a$ og $c$ ikke like?\n",
    "* `a == b or a != c` - er enten $a$ og $b$ like, eller $a$ og $c$ ulike?\n",
    "\n",
    "Når vi bruker `and`, sjekker python om begge testene gir `True`. Hvis en av testene feiler, vil python gi oss `False`. Altså må begge tester gi `True` for at hele testen skal returnere `True`.\n",
    "\n",
    "Når vi bruker `or`, holder det at bare en av testene gir `True` for at hele testen resulterer i `True`. Altså er `or` mindre streng enn `and`."
   ]
  },
  {
   "cell_type": "markdown",
   "id": "8d36482c",
   "metadata": {},
   "source": [
    "### Underveisoppgave 1\n",
    "\n",
    "Trill en terning. Få python til å skrive ut verdien på terningen og undersøk med tester\n",
    "1. om du fikk en sekser\n",
    "2. om du fikk mer enn fire.\n",
    "3. om du fikk noe annet enn én.\n",
    "\n",
    "Tips: bruk `print(\"tekst\", test)`. Altså at du skriver hva du tester, og utfører testen etter teksten. "
   ]
  },
  {
   "cell_type": "code",
   "execution_count": null,
   "id": "a3dd1289",
   "metadata": {},
   "outputs": [],
   "source": []
  },
  {
   "cell_type": "markdown",
   "id": "35576067",
   "metadata": {},
   "source": [
    "### Underveisoppgave 2\n",
    "Kast 5 terninger, skriv ut resultatet og undersøk med tester\n",
    "1. om du fikk en sekser\n",
    "2. om summen av terningene er mer eller lik 20\n",
    "3. om summen av terningene er mer enn 15 og du fikk en eller flere enere."
   ]
  },
  {
   "cell_type": "code",
   "execution_count": null,
   "id": "f7a1a3b7",
   "metadata": {},
   "outputs": [],
   "source": []
  },
  {
   "cell_type": "markdown",
   "id": "150ad324",
   "metadata": {},
   "source": [
    "# If-tester\n",
    "\n",
    "Det er ikke alltid vi vil at hver eneste linje i koden skal kjøre. Kanskje stiller vi et spørsmål til brukeren, og basert på svaret får brukeren to forskjellige resultater. Vi håndterer dette med if-tester. En if-test er strukturert på følgende måte:"
   ]
  },
  {
   "cell_type": "markdown",
   "id": "2f6543e7",
   "metadata": {},
   "source": [
    "`if <test>:`\n",
    "    \n",
    "    kode som kjører hvis test gir `True`\n",
    "------------"
   ]
  },
  {
   "cell_type": "markdown",
   "id": "707c849b",
   "metadata": {},
   "source": [
    "Vi kan også ta med hva som skjer hvis testen gir `False`, da blir koden:\n",
    "\n",
    "`if <test>:`\n",
    "    \n",
    "    kode som kjører hvis test gir `True`\n",
    "    \n",
    "`else:`\n",
    "    \n",
    "    kode som kjører hvis test gir `False`\n",
    "--------"
   ]
  },
  {
   "cell_type": "markdown",
   "id": "f039a60b",
   "metadata": {},
   "source": [
    "Hvis vi vil teste flere ganger etter hverandre, kan vi bruker `elif`:\n",
    "\n",
    "`if <test>:`\n",
    "    \n",
    "    kode som kjører hvis test gir `True`\n",
    "\n",
    "`elif <test>:`\n",
    "\n",
    "    kode som kjører hvis forrige test feilet og ny test gir `True`\n",
    "\n",
    "`else:`\n",
    "    \n",
    "    kode som kjører hvis alle testene over feiler.\n",
    "------------------\n",
    "\n",
    "Du kan selv velge om du vil ha med `elif` eller `else`. Det eneste som må være med er `if`. La oss ta noen eksempler:"
   ]
  },
  {
   "cell_type": "markdown",
   "id": "0b1b4a30",
   "metadata": {},
   "source": [
    "## Eksempel 1\n",
    "\n",
    "Lag et program som kaster to terninger. Hvis summen av terningene er mer enn 8, vinner du. Er summen mindre enn 8, taper du. "
   ]
  },
  {
   "cell_type": "code",
   "execution_count": null,
   "id": "3a935424",
   "metadata": {},
   "outputs": [],
   "source": []
  },
  {
   "cell_type": "markdown",
   "id": "5fc5ae5c",
   "metadata": {},
   "source": [
    "## Eksempel 2\n",
    "\n",
    "Lag et program som stiller et ja/nei spørsmål, og gir to svar basert på hva brukeren svarte.\n",
    "\n",
    "Hint: For å be om input i form av tekst, bruk koden `svar = input(\"Spørsmål \").lower()`. Svaret brukeren taster inn blir da lagret som en streng, og alle store bokstaver omgjøres til små bokstaver. "
   ]
  },
  {
   "cell_type": "code",
   "execution_count": null,
   "id": "e3b1f5e6",
   "metadata": {},
   "outputs": [],
   "source": []
  },
  {
   "cell_type": "markdown",
   "id": "30546a9f",
   "metadata": {},
   "source": [
    "### Underveisoppgave 3\n",
    "Lag et program som stiller spørsmålet \"Er jeg intelligent?\". Hvis brukeren svarer \"ja\", skal maskinen svare \"Feil, jeg er elektroner i bevegelse på et kretskort\". Hvis brukeren svarer \"nei\", skal maskinen svare \"Dust\". Programmet skal også skrive ut en beskjed hvis man ikke svarte \"ja\" eller \"nei\"."
   ]
  },
  {
   "cell_type": "code",
   "execution_count": null,
   "id": "89c6f0f2",
   "metadata": {},
   "outputs": [],
   "source": []
  },
  {
   "cell_type": "markdown",
   "id": "a67ecbc4",
   "metadata": {},
   "source": [
    "### Underveisoppgave 4\n",
    "\n",
    "Lag et program som kan regne ut alle størrelsene i formelen for molar masse. Programmet lar deg taste inn tre variabler, finner ut hvilken som er ukjent, og velger riktig variant av formelen. Den størrelsen som er ukjent kan du sette til `\"\"`. En start på programmet finner du nedenfor.\n",
    "\n",
    "#### Litt teori for oppgaven\n",
    "Sammenhengen mellom stoffmengde i mol, massen i gram og molar masse i g/mol er gitt ved formelen\n",
    "$$ n=\\frac{m}{M_{\\text{m}}} $$ der $n$ er stoffmengden i antall mol, $m$ er massen i gram og $M_{\\text{m}}$ er den molare massen i g/mol. Vi har tre varianter av denne formelen:\n",
    "\n",
    "$$ n=\\frac{m}{M_{\\text{m}}},\\quad M_{\\text{m}}=\\frac{m}{n},\\quad m=n\\cdot M_{\\text{m}}$$"
   ]
  },
  {
   "cell_type": "code",
   "execution_count": 15,
   "id": "ff6fb4e1",
   "metadata": {},
   "outputs": [],
   "source": [
    "n = \"\"\n",
    "m = 3\n",
    "Mm = 5\n",
    "\n",
    "# Skriv inn din kode her. Utifra hvilken variabel som har \"\", skal programmet velge formel og regne ut.\n",
    "\n"
   ]
  },
  {
   "cell_type": "markdown",
   "id": "d44704c6",
   "metadata": {},
   "source": [
    "### Underveisoppgave 5\n",
    "Lag en ABC-formel kalkulator. Kalkulatoren skal ta imot koeffisientene $a$, $b$ og $c$. Programmet skal så undersøke om det finnes, to, én eller ingen løsninger og så presentere svaret/svarene.\n",
    "\n",
    "#### Litt teori for oppgaven. \n",
    "Likningen $$ ax^{2}+bx+c=0 $$ har løsninger gitt ved andregradsformelen \n",
    "$$x=\\frac{-b\\pm\\sqrt{b^{2}-4ac}}{2a}$$ \n",
    "Hvis $b^{2}-4ac > 0$ har likningen to løsninger: \n",
    "$$ x_{1}=\\frac{-b+\\sqrt{b^{2}-4ac}}{2a},\\quad x_{2}=\\frac{-b-\\sqrt{b^{2}-4ac}}{2a}$$\n",
    "Hvis $b^{2}-4ac = 0$ har likningen én løsning:\n",
    "$$ x = \\frac{-b}{2a} $$\n",
    "Hvis $b^{2}-4ac < 0$ har likningen ingen løsninger."
   ]
  },
  {
   "cell_type": "code",
   "execution_count": null,
   "id": "3d88d88a",
   "metadata": {},
   "outputs": [],
   "source": []
  },
  {
   "cell_type": "markdown",
   "id": "650cbd49",
   "metadata": {},
   "source": [
    "# Oppgaver\n",
    "\n",
    "Disse oppgavene er det anbefalt å gjøre før neste time."
   ]
  },
  {
   "cell_type": "markdown",
   "id": "774087ec",
   "metadata": {},
   "source": [
    "## Oppgave 1\n",
    "\n",
    "Synlig lys består av fotoner med bølgelengde mellom 380 nanometer og 750 nanometer.\n",
    "1. Lag et program hvor man kan taste inn en bølgelengde og få svar på om det er synlig lys eller ikke.\n",
    "2. Utvid programmet til å fortelle hvilken farge det er snakk om hvis bølgelengden svarer til synlig lys. Bruk tabellen under.\n",
    "\n",
    "|Farge|Bølgelengde|\n",
    "|:--------|:---------|\n",
    "|Fiolett  |380–450 nm|\n",
    "|Blå      |450–485 nm|\n",
    "|Turkis   |485–500 nm|\n",
    "|Grønn    |500–565 nm|\n",
    "|Gul      |565–590 nm|\n",
    "|Oransje  |590–625 nm|\n",
    "|Rød      |625–750 nm|"
   ]
  },
  {
   "cell_type": "markdown",
   "id": "14cfb3ae",
   "metadata": {},
   "source": [
    "## Oppgave 2\n",
    "Ta utgangspunkt i underveisoppgave 5. Gjør om programmet til å skrive ut faktoriseringen av et annengradspolynom. Du får bruk for at \n",
    "\n",
    "$$ax^{2}+bx+c=a(x-x_{1})(x-x_{2})$$\n",
    "\n",
    "Der $x_{1}$ og $x_{2}$ er løsninger av ABC formelen.\n",
    "\n",
    "Hvis det kun finnes en løsning $x_{0}$, skal programmet skrive ut faktoriseringen $a(x-x_{0})^{2}$"
   ]
  },
  {
   "cell_type": "code",
   "execution_count": null,
   "id": "185d4165",
   "metadata": {},
   "outputs": [],
   "source": []
  },
  {
   "cell_type": "markdown",
   "id": "ab73f164",
   "metadata": {},
   "source": [
    "## Oppgave 3\n",
    "\n",
    "Du har søsken i ungdomsskolealder. De synes det er kjedelig å pugge gangetabellen. Som klok VGS elev skjønner du hvor viktig det er for læring i matematikk å kunne denne tabellen. Du får ideen om å lage et program som lager tilfeldige gangestykker. Da kan søskenen din taste inn svaret på gangestykket og få tilbakemelding på om det var riktig eller ikke.\n",
    "\n",
    "Lag et program som velger to tilfeldige heltalltall mellom 0 og 10. Be brukeren om å skrive inn svaret på gangetstykket med disse to tallene. Hvis brukeren taster riktig svar, skriver vi ut \"Bra, det var riktig!\". Hvis brukeren svarer feil, skriver vi \"Det riktige svaret er ...\" hvor prikkene byttes ut med det riktige svaret. "
   ]
  },
  {
   "cell_type": "code",
   "execution_count": null,
   "id": "4f4dfe2d",
   "metadata": {},
   "outputs": [],
   "source": []
  }
 ],
 "metadata": {
  "kernelspec": {
   "display_name": "Python 3 (ipykernel)",
   "language": "python",
   "name": "python3"
  },
  "language_info": {
   "codemirror_mode": {
    "name": "ipython",
    "version": 3
   },
   "file_extension": ".py",
   "mimetype": "text/x-python",
   "name": "python",
   "nbconvert_exporter": "python",
   "pygments_lexer": "ipython3",
   "version": "3.8.8"
  }
 },
 "nbformat": 4,
 "nbformat_minor": 5
}
